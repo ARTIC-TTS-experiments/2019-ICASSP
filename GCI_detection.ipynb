{
 "cells": [
  {
   "cell_type": "markdown",
   "metadata": {
    "run_control": {
     "frozen": false,
     "read_only": false
    },
    "toc": "true"
   },
   "source": [
    "# Table of Contents\n",
    " <p><div class=\"lev1 toc-item\"><a href=\"#Using-extreme-gradient-boosting-to-detect-glottal-closure-instants-in-speech-signal\" data-toc-modified-id=\"Using-extreme-gradient-boosting-to-detect-glottal-closure-instants-in-speech-signal-1\"><span class=\"toc-item-num\">1&nbsp;&nbsp;</span>Using extreme gradient boosting to detect glottal closure instants in speech signal</a></div><div class=\"lev2 toc-item\"><a href=\"#Training-and-evaluating-the-classifier-on-UWB-data\" data-toc-modified-id=\"Training-and-evaluating-the-classifier-on-UWB-data-11\"><span class=\"toc-item-num\">1.1&nbsp;&nbsp;</span>Training and evaluating the classifier on UWB data</a></div><div class=\"lev2 toc-item\"><a href=\"#CMU-data\" data-toc-modified-id=\"CMU-data-12\"><span class=\"toc-item-num\">1.2&nbsp;&nbsp;</span>CMU data</a></div>"
   ]
  },
  {
   "cell_type": "markdown",
   "metadata": {
    "run_control": {
     "frozen": false,
     "read_only": false
    }
   },
   "source": [
    "# Using extreme gradient boosting to detect glottal closure instants in speech signal\n",
    "\n",
    "This is an example of a Python code to train and test an extreme gradient boosting (XGB) classifier used to detect glottal closure instants (GCIs) in the speech signal. See the [corresponding paper](paper/matousek_ICASSP2019_paper.pdf) for more details.\n",
    "\n",
    "[Scikit-learn](http://scikit-learn.org/stable/) and [XGBoost](https://xgboost.readthedocs.io/en/latest/index.html) toolkits are used to train and evaluate the classifier.\n",
    "\n",
    "Prerequisities:\n",
    "- [Python](https://www.python.org/) (version 3.7.0 used in this example)\n",
    "- [Numpy](http://www.numpy.org/) (1.15.2)\n",
    "- [Scipy](https://www.scipy.org/) (1.1.0)\n",
    "- [Scikit-learn](http://scikit-learn.org/stable/) (0.20.0)\n",
    "- [XGBoost](https://xgboost.readthedocs.io/en/latest/index.html) (0.80)\n",
    "- [Pandas](http://pandas.pydata.org/) (0.23.4)"
   ]
  },
  {
   "cell_type": "markdown",
   "metadata": {
    "run_control": {
     "frozen": false,
     "read_only": false
    }
   },
   "source": [
    "## Training and evaluating the classifier on UWB data\n",
    "\n",
    "Firstly, we define the XGB classifier with the default hyper-parameters"
   ]
  },
  {
   "cell_type": "code",
   "execution_count": 2,
   "metadata": {
    "run_control": {
     "frozen": false,
     "read_only": false
    }
   },
   "outputs": [],
   "source": [
    "from xgboost import XGBClassifier\n",
    "\n",
    "# Init the XGB classifier\n",
    "xgb = XGBClassifier(random_state=8)"
   ]
  },
  {
   "cell_type": "markdown",
   "metadata": {
    "run_control": {
     "frozen": false,
     "read_only": false
    }
   },
   "source": [
    "The default hyper-parameters can be listed"
   ]
  },
  {
   "cell_type": "code",
   "execution_count": 34,
   "metadata": {
    "run_control": {
     "frozen": false,
     "read_only": false
    }
   },
   "outputs": [
    {
     "data": {
      "text/plain": [
       "{'base_score': 0.5,\n",
       " 'booster': 'gbtree',\n",
       " 'colsample_bylevel': 1,\n",
       " 'colsample_bytree': 1,\n",
       " 'gamma': 0,\n",
       " 'learning_rate': 0.1,\n",
       " 'max_delta_step': 0,\n",
       " 'max_depth': 3,\n",
       " 'min_child_weight': 1,\n",
       " 'missing': None,\n",
       " 'n_estimators': 100,\n",
       " 'n_jobs': 1,\n",
       " 'nthread': None,\n",
       " 'objective': 'binary:logistic',\n",
       " 'random_state': 8,\n",
       " 'reg_alpha': 0,\n",
       " 'reg_lambda': 1,\n",
       " 'scale_pos_weight': 1,\n",
       " 'seed': None,\n",
       " 'silent': True,\n",
       " 'subsample': 1}"
      ]
     },
     "execution_count": 34,
     "metadata": {},
     "output_type": "execute_result"
    }
   ],
   "source": [
    "xgb.get_params()"
   ]
  },
  {
   "cell_type": "markdown",
   "metadata": {
    "run_control": {
     "frozen": false,
     "read_only": false
    }
   },
   "source": [
    "Then, the UWB data and its targets (denoted as _development dataset_ in the  [corresponding paper](paper/matousek_ICASSP2019_paper.pdf)) stored in a CSV is loaded as a Pandas dataframe. Hand-crafted GCIs were used as targets and are stored in the very first column of the dataframe. Other columns represent features; the features are those selected automatically by recursive feature elimination with extremely randomized trees used as an external estimator for feature importances (denoted as RFE-ERT in the [paper](paper/matousek_ICASSP2019_paper.pdf))."
   ]
  },
  {
   "cell_type": "code",
   "execution_count": 36,
   "metadata": {
    "run_control": {
     "frozen": false,
     "read_only": false
    }
   },
   "outputs": [],
   "source": [
    "import pandas as pd\n",
    "# Read development data and targets into a Pandas dataframe\n",
    "df = pd.read_csv('data/uwb/data.csv', sep=';')"
   ]
  },
  {
   "cell_type": "markdown",
   "metadata": {
    "run_control": {
     "frozen": false,
     "read_only": false
    }
   },
   "source": [
    "This is an example of the dataframe. Columns are the features (except the first one which is the target) and rows correspond to negative peaks (candidates for GCI placement). The target value 0 means the peak is not a true GCI, while the value 1 represents a true GCI."
   ]
  },
  {
   "cell_type": "code",
   "execution_count": 37,
   "metadata": {
    "run_control": {
     "frozen": false,
     "read_only": false
    }
   },
   "outputs": [
    {
     "data": {
      "text/html": [
       "<div>\n",
       "<style scoped>\n",
       "    .dataframe tbody tr th:only-of-type {\n",
       "        vertical-align: middle;\n",
       "    }\n",
       "\n",
       "    .dataframe tbody tr th {\n",
       "        vertical-align: top;\n",
       "    }\n",
       "\n",
       "    .dataframe thead th {\n",
       "        text-align: right;\n",
       "    }\n",
       "</style>\n",
       "<table border=\"1\" class=\"dataframe\">\n",
       "  <thead>\n",
       "    <tr style=\"text-align: right;\">\n",
       "      <th></th>\n",
       "      <th>target</th>\n",
       "      <th>negAmp0</th>\n",
       "      <th>negAmp+1</th>\n",
       "      <th>negAmp-1</th>\n",
       "      <th>negAmp+2</th>\n",
       "      <th>negAmp-2</th>\n",
       "      <th>negAmp+3</th>\n",
       "      <th>negAmp-3</th>\n",
       "      <th>posAmp+1</th>\n",
       "      <th>posAmp-1</th>\n",
       "      <th>...</th>\n",
       "      <th>negPeakRatio+3</th>\n",
       "      <th>negPeakRatio-3</th>\n",
       "      <th>zcr</th>\n",
       "      <th>energy</th>\n",
       "      <th>hnr</th>\n",
       "      <th>specCentroid</th>\n",
       "      <th>specRollOff</th>\n",
       "      <th>mfcc0</th>\n",
       "      <th>mfcc1</th>\n",
       "      <th>f0</th>\n",
       "    </tr>\n",
       "  </thead>\n",
       "  <tbody>\n",
       "    <tr>\n",
       "      <th>0</th>\n",
       "      <td>0</td>\n",
       "      <td>0.000509</td>\n",
       "      <td>0.000882</td>\n",
       "      <td>0.000000</td>\n",
       "      <td>0.000305</td>\n",
       "      <td>0.000000</td>\n",
       "      <td>0.000916</td>\n",
       "      <td>0.000000</td>\n",
       "      <td>0.000848</td>\n",
       "      <td>0.000000</td>\n",
       "      <td>...</td>\n",
       "      <td>1.800000</td>\n",
       "      <td>0.000000</td>\n",
       "      <td>54</td>\n",
       "      <td>6.663986</td>\n",
       "      <td>0.018084</td>\n",
       "      <td>3554.503394</td>\n",
       "      <td>6875.0</td>\n",
       "      <td>7.861533</td>\n",
       "      <td>-27.152266</td>\n",
       "      <td>0.0</td>\n",
       "    </tr>\n",
       "    <tr>\n",
       "      <th>1</th>\n",
       "      <td>0</td>\n",
       "      <td>0.000882</td>\n",
       "      <td>0.000305</td>\n",
       "      <td>0.000509</td>\n",
       "      <td>0.000916</td>\n",
       "      <td>0.000000</td>\n",
       "      <td>0.000576</td>\n",
       "      <td>0.000000</td>\n",
       "      <td>0.000136</td>\n",
       "      <td>0.000848</td>\n",
       "      <td>...</td>\n",
       "      <td>0.653846</td>\n",
       "      <td>0.000000</td>\n",
       "      <td>48</td>\n",
       "      <td>6.610703</td>\n",
       "      <td>2.137606</td>\n",
       "      <td>3445.156903</td>\n",
       "      <td>6875.0</td>\n",
       "      <td>7.712359</td>\n",
       "      <td>-24.323951</td>\n",
       "      <td>0.0</td>\n",
       "    </tr>\n",
       "    <tr>\n",
       "      <th>2</th>\n",
       "      <td>0</td>\n",
       "      <td>0.000305</td>\n",
       "      <td>0.000916</td>\n",
       "      <td>0.000882</td>\n",
       "      <td>0.000576</td>\n",
       "      <td>0.000509</td>\n",
       "      <td>0.000068</td>\n",
       "      <td>0.000000</td>\n",
       "      <td>0.000102</td>\n",
       "      <td>0.000136</td>\n",
       "      <td>...</td>\n",
       "      <td>0.222222</td>\n",
       "      <td>0.000000</td>\n",
       "      <td>60</td>\n",
       "      <td>6.547511</td>\n",
       "      <td>0.000000</td>\n",
       "      <td>3515.395209</td>\n",
       "      <td>6375.0</td>\n",
       "      <td>7.319554</td>\n",
       "      <td>-27.431489</td>\n",
       "      <td>0.0</td>\n",
       "    </tr>\n",
       "    <tr>\n",
       "      <th>3</th>\n",
       "      <td>0</td>\n",
       "      <td>0.000916</td>\n",
       "      <td>0.000576</td>\n",
       "      <td>0.000305</td>\n",
       "      <td>0.000068</td>\n",
       "      <td>0.000882</td>\n",
       "      <td>0.000170</td>\n",
       "      <td>0.000509</td>\n",
       "      <td>0.000882</td>\n",
       "      <td>0.000102</td>\n",
       "      <td>...</td>\n",
       "      <td>0.185185</td>\n",
       "      <td>0.555556</td>\n",
       "      <td>40</td>\n",
       "      <td>6.450985</td>\n",
       "      <td>0.000000</td>\n",
       "      <td>3256.522404</td>\n",
       "      <td>6812.5</td>\n",
       "      <td>5.339055</td>\n",
       "      <td>-30.872795</td>\n",
       "      <td>0.0</td>\n",
       "    </tr>\n",
       "    <tr>\n",
       "      <th>4</th>\n",
       "      <td>0</td>\n",
       "      <td>0.000576</td>\n",
       "      <td>0.000068</td>\n",
       "      <td>0.000916</td>\n",
       "      <td>0.000170</td>\n",
       "      <td>0.000305</td>\n",
       "      <td>0.001322</td>\n",
       "      <td>0.000882</td>\n",
       "      <td>0.000237</td>\n",
       "      <td>0.000882</td>\n",
       "      <td>...</td>\n",
       "      <td>2.294118</td>\n",
       "      <td>1.529412</td>\n",
       "      <td>51</td>\n",
       "      <td>6.426121</td>\n",
       "      <td>0.000000</td>\n",
       "      <td>3509.230895</td>\n",
       "      <td>6250.0</td>\n",
       "      <td>6.552707</td>\n",
       "      <td>-29.550572</td>\n",
       "      <td>0.0</td>\n",
       "    </tr>\n",
       "  </tbody>\n",
       "</table>\n",
       "<p>5 rows × 38 columns</p>\n",
       "</div>"
      ],
      "text/plain": [
       "   target   negAmp0  negAmp+1  negAmp-1  negAmp+2  negAmp-2  negAmp+3  \\\n",
       "0       0  0.000509  0.000882  0.000000  0.000305  0.000000  0.000916   \n",
       "1       0  0.000882  0.000305  0.000509  0.000916  0.000000  0.000576   \n",
       "2       0  0.000305  0.000916  0.000882  0.000576  0.000509  0.000068   \n",
       "3       0  0.000916  0.000576  0.000305  0.000068  0.000882  0.000170   \n",
       "4       0  0.000576  0.000068  0.000916  0.000170  0.000305  0.001322   \n",
       "\n",
       "   negAmp-3  posAmp+1  posAmp-1 ...   negPeakRatio+3  negPeakRatio-3  zcr  \\\n",
       "0  0.000000  0.000848  0.000000 ...         1.800000        0.000000   54   \n",
       "1  0.000000  0.000136  0.000848 ...         0.653846        0.000000   48   \n",
       "2  0.000000  0.000102  0.000136 ...         0.222222        0.000000   60   \n",
       "3  0.000509  0.000882  0.000102 ...         0.185185        0.555556   40   \n",
       "4  0.000882  0.000237  0.000882 ...         2.294118        1.529412   51   \n",
       "\n",
       "     energy       hnr  specCentroid  specRollOff     mfcc0      mfcc1   f0  \n",
       "0  6.663986  0.018084   3554.503394       6875.0  7.861533 -27.152266  0.0  \n",
       "1  6.610703  2.137606   3445.156903       6875.0  7.712359 -24.323951  0.0  \n",
       "2  6.547511  0.000000   3515.395209       6375.0  7.319554 -27.431489  0.0  \n",
       "3  6.450985  0.000000   3256.522404       6812.5  5.339055 -30.872795  0.0  \n",
       "4  6.426121  0.000000   3509.230895       6250.0  6.552707 -29.550572  0.0  \n",
       "\n",
       "[5 rows x 38 columns]"
      ]
     },
     "execution_count": 37,
     "metadata": {},
     "output_type": "execute_result"
    }
   ],
   "source": [
    "# Show first examples\n",
    "df.head()"
   ]
  },
  {
   "cell_type": "markdown",
   "metadata": {
    "run_control": {
     "frozen": false,
     "read_only": false
    }
   },
   "source": [
    "For the further processing, the targets and features are stored in NumPy arrays"
   ]
  },
  {
   "cell_type": "code",
   "execution_count": 30,
   "metadata": {
    "run_control": {
     "frozen": false,
     "read_only": false
    }
   },
   "outputs": [
    {
     "name": "stdout",
     "output_type": "stream",
     "text": [
      "# examples: 73205\n",
      "# features: 37\n"
     ]
    }
   ],
   "source": [
    "import numpy as np\n",
    "# 0th column is the target\n",
    "y = np.array(df.values[:,0], dtype='int')\n",
    "# Other columns represent the features\n",
    "X = df.values[:,1:]\n",
    "print('# examples: {}'.format(X.shape[0]))\n",
    "print('# features: {}'.format(X.shape[1]))"
   ]
  },
  {
   "cell_type": "markdown",
   "metadata": {
    "run_control": {
     "frozen": false,
     "read_only": false
    }
   },
   "source": [
    "The performance of the proposed baseline XGB classifier with the default hyper-parameters can be evaluated by [_k_-fold cross-validation](http://scikit-learn.org/stable/modules/generated/sklearn.model_selection.StratifiedKFold.html). To enable faster training, we use just 3-folds in this example; of course, more folds and/or [repetitions](http://scikit-learn.org/stable/modules/generated/sklearn.model_selection.RepeatedStratifiedKFold.html#sklearn.model_selection.RepeatedStratifiedKFold) can be used to get more unbiased results."
   ]
  },
  {
   "cell_type": "code",
   "execution_count": 19,
   "metadata": {
    "run_control": {
     "frozen": false,
     "read_only": false
    }
   },
   "outputs": [
    {
     "name": "stdout",
     "output_type": "stream",
     "text": [
      "Scores: [0.9698307  0.97124771 0.97682144]\n",
      "Mean CV score: 97.26% +/- 0.30%\n"
     ]
    }
   ],
   "source": [
    "from sklearn.model_selection import cross_val_score\n",
    "# Cross-validate\n",
    "scores = cross_val_score(xgb, X, y, cv=3, scoring='f1')\n",
    "print('Scores: {}'.format(scores))\n",
    "print('Mean CV score: {:5.2%} +/- {:5.2%}'.format(scores.mean(), scores.std()))"
   ]
  },
  {
   "cell_type": "markdown",
   "metadata": {
    "run_control": {
     "frozen": false,
     "read_only": false
    }
   },
   "source": [
    "Better results are expected when the hyper-parameters of the XGB model are tuned. In this simplified example, we tune just 2 hyper-parameters, the number of decision trees (*n_estimators*) and maximum depth of a tree (*max_depth*).\n",
    "\n",
    "A simplified grid of possible hyper-parameter values is defined"
   ]
  },
  {
   "cell_type": "code",
   "execution_count": 18,
   "metadata": {
    "run_control": {
     "frozen": false,
     "read_only": false
    }
   },
   "outputs": [],
   "source": [
    "# Define parameter grid\n",
    "grid = {'n_estimators': [50, 100, 150],\n",
    "        'max_depth': [1, 3, 5]}"
   ]
  },
  {
   "cell_type": "markdown",
   "metadata": {
    "run_control": {
     "frozen": false,
     "read_only": false
    }
   },
   "source": [
    "A [grid search](http://scikit-learn.org/stable/modules/generated/sklearn.model_selection.GridSearchCV.html) is then defined to search for the best classifier (hyper)parameters using a 3-fold cross-validation scheme ($cv=3$). F1 score is used in this example to evaluate the predicitions of each hyper-parameter setting on the validation set."
   ]
  },
  {
   "cell_type": "code",
   "execution_count": 19,
   "metadata": {
    "run_control": {
     "frozen": false,
     "read_only": false
    }
   },
   "outputs": [],
   "source": [
    "from sklearn.model_selection import GridSearchCV\n",
    "# Define the grid search and cross-validation\n",
    "gs = GridSearchCV(xgb, grid, scoring='f1', cv=3, return_train_score=False)"
   ]
  },
  {
   "cell_type": "markdown",
   "metadata": {
    "run_control": {
     "frozen": false,
     "read_only": false
    }
   },
   "source": [
    "The grid search object is then trained."
   ]
  },
  {
   "cell_type": "code",
   "execution_count": 20,
   "metadata": {
    "run_control": {
     "frozen": false,
     "read_only": false
    }
   },
   "outputs": [
    {
     "data": {
      "text/plain": [
       "GridSearchCV(cv=3, error_score='raise-deprecating',\n",
       "       estimator=XGBClassifier(base_score=0.5, booster='gbtree', colsample_bylevel=1,\n",
       "       colsample_bytree=1, gamma=0, learning_rate=0.1, max_delta_step=0,\n",
       "       max_depth=3, min_child_weight=1, missing=None, n_estimators=100,\n",
       "       n_jobs=1, nthread=None, objective='binary:logistic', random_state=8,\n",
       "       reg_alpha=0, reg_lambda=1, scale_pos_weight=1, seed=None,\n",
       "       silent=True, subsample=1),\n",
       "       fit_params=None, iid='warn', n_jobs=None,\n",
       "       param_grid={'n_estimators': [50, 100, 150], 'max_depth': [1, 3, 5]},\n",
       "       pre_dispatch='2*n_jobs', refit=True, return_train_score=False,\n",
       "       scoring='f1', verbose=0)"
      ]
     },
     "execution_count": 20,
     "metadata": {},
     "output_type": "execute_result"
    }
   ],
   "source": [
    "# Train the grid \n",
    "gs.fit(X, y)"
   ]
  },
  {
   "cell_type": "markdown",
   "metadata": {
    "run_control": {
     "frozen": false,
     "read_only": false
    }
   },
   "source": [
    "The best parameters found by the grid search are"
   ]
  },
  {
   "cell_type": "code",
   "execution_count": 21,
   "metadata": {
    "run_control": {
     "frozen": false,
     "read_only": false
    }
   },
   "outputs": [
    {
     "name": "stdout",
     "output_type": "stream",
     "text": [
      "Best hyper-parameters found:  {'max_depth': 5, 'n_estimators': 100}\n"
     ]
    }
   ],
   "source": [
    "print('Best hyper-parameters found: ', gs.best_params_)"
   ]
  },
  {
   "cell_type": "markdown",
   "metadata": {
    "run_control": {
     "frozen": false,
     "read_only": false
    }
   },
   "source": [
    "Mean (F1) score for the best hyper-parameters:"
   ]
  },
  {
   "cell_type": "code",
   "execution_count": 25,
   "metadata": {
    "run_control": {
     "frozen": false,
     "read_only": false
    }
   },
   "outputs": [
    {
     "name": "stdout",
     "output_type": "stream",
     "text": [
      "Mean CV score for the best hyper-paramater setting: 97.48%\n"
     ]
    }
   ],
   "source": [
    "print('Mean CV score for the best hyper-paramater setting: {:5.2%}'.format(gs.best_score_))"
   ]
  },
  {
   "cell_type": "markdown",
   "metadata": {
    "run_control": {
     "frozen": false,
     "read_only": false
    }
   },
   "source": [
    "Summary of results for each hyper-parameter setting and each cross-validation fold could be stored to a CSV file"
   ]
  },
  {
   "cell_type": "code",
   "execution_count": 23,
   "metadata": {
    "run_control": {
     "frozen": false,
     "read_only": false
    }
   },
   "outputs": [],
   "source": [
    "from pandas import DataFrame\n",
    "# Import cross-validation results\n",
    "res = DataFrame(gs.cv_results_)\n",
    "# Save to CSV file\n",
    "res.to_csv('cv_results.csv', sep=';')"
   ]
  },
  {
   "cell_type": "markdown",
   "metadata": {
    "run_control": {
     "frozen": false,
     "read_only": false
    }
   },
   "source": [
    "Note that much more extensive grid search on more relevant hyper-parameters was conducted in the [corresponding paper](paper/matousek_ICASSP2019_paper.pdf). The resulting XGB model (refit on all development data) can be loaded"
   ]
  },
  {
   "cell_type": "code",
   "execution_count": 26,
   "metadata": {
    "run_control": {
     "frozen": false,
     "read_only": false
    }
   },
   "outputs": [],
   "source": [
    "import pickle\n",
    "with open('data/uwb/xgb_final.p', 'rb') as fr:\n",
    "    xgb_final = pickle.load(fr)"
   ]
  },
  {
   "cell_type": "markdown",
   "metadata": {
    "run_control": {
     "frozen": false,
     "read_only": false
    }
   },
   "source": [
    "The tuned hyper-parameters can be listed"
   ]
  },
  {
   "cell_type": "code",
   "execution_count": 41,
   "metadata": {
    "run_control": {
     "frozen": false,
     "read_only": false
    }
   },
   "outputs": [
    {
     "data": {
      "text/plain": [
       "{'base_score': 0.5,\n",
       " 'booster': 'gbtree',\n",
       " 'colsample_bylevel': 0.6,\n",
       " 'colsample_bytree': 0.65,\n",
       " 'gamma': 0,\n",
       " 'learning_rate': 0.1,\n",
       " 'max_delta_step': 0,\n",
       " 'max_depth': 7,\n",
       " 'min_child_weight': 1,\n",
       " 'missing': nan,\n",
       " 'n_estimators': 1150,\n",
       " 'n_jobs': 1,\n",
       " 'nthread': None,\n",
       " 'objective': 'binary:logistic',\n",
       " 'random_state': 8,\n",
       " 'reg_alpha': 1e-08,\n",
       " 'reg_lambda': 1,\n",
       " 'scale_pos_weight': 1,\n",
       " 'seed': None,\n",
       " 'silent': True,\n",
       " 'subsample': 0.9}"
      ]
     },
     "execution_count": 41,
     "metadata": {},
     "output_type": "execute_result"
    }
   ],
   "source": [
    "xgb_final.get_params()"
   ]
  },
  {
   "cell_type": "markdown",
   "metadata": {
    "run_control": {
     "frozen": false,
     "read_only": false
    }
   },
   "source": [
    "## CMU data\n",
    "\n",
    "The trained and tuned classifier can be evaluated on the [CMU](http://festvox.org/dbs/index.html) test datasets. Since hand-crafted GCIs are not available for these datasets, we used the [Multi-Phase Algorithm](http://www.sciencedirect.com/science/article/pii/S0167639311000094) (MPA) to detect GCIs from the contemporaneous electroglottograph (EGG) signal and used the detected GCIs as the reference ones. The reference GCIs are available in the [wavesurfer](http://www.speech.kth.se/wavesurfer) format"
   ]
  },
  {
   "cell_type": "markdown",
   "metadata": {
    "run_control": {
     "frozen": false,
     "read_only": false
    }
   },
   "source": [
    "```\n",
    "0.234687 0.234687 V\n",
    "0.242312 0.242312 V\n",
    "0.250250 0.250250 V\n",
    "0.258062 0.258062 V\n",
    "0.265937 0.265937 V\n",
    "```"
   ]
  },
  {
   "cell_type": "markdown",
   "metadata": {
    "run_control": {
     "frozen": false,
     "read_only": false
    }
   },
   "source": [
    "The most important is the first column which denotes the position of a GCI in seconds. Other columns can be ignored.\n",
    "\n",
    "The features are stored in CSV format in an utterance-by-utterance manner. The first column now expresses the sample of a negative peak in the 16-kHz version of the speech signal, so a true GCI expressed in the wavesurfer format can be easily mapped to the corresponding row of the feature dataframe. For instance, the GCI at 0.234687 sec corresponds to the 3755th speech sample ($0.234687*16000 \\doteq 3755$). The other columns represent the same RFE-ERT features as explained above.\n",
    "\n",
    "Rows that do not correspond to any wavesurfer-based time instance do not represent a true GCI."
   ]
  },
  {
   "cell_type": "code",
   "execution_count": 40,
   "metadata": {
    "run_control": {
     "frozen": false,
     "read_only": false
    }
   },
   "outputs": [
    {
     "data": {
      "text/html": [
       "<div>\n",
       "<style scoped>\n",
       "    .dataframe tbody tr th:only-of-type {\n",
       "        vertical-align: middle;\n",
       "    }\n",
       "\n",
       "    .dataframe tbody tr th {\n",
       "        vertical-align: top;\n",
       "    }\n",
       "\n",
       "    .dataframe thead th {\n",
       "        text-align: right;\n",
       "    }\n",
       "</style>\n",
       "<table border=\"1\" class=\"dataframe\">\n",
       "  <thead>\n",
       "    <tr style=\"text-align: right;\">\n",
       "      <th></th>\n",
       "      <th>negPeakIdx</th>\n",
       "      <th>negAmp0</th>\n",
       "      <th>negAmp+1</th>\n",
       "      <th>negAmp-1</th>\n",
       "      <th>negAmp+2</th>\n",
       "      <th>negAmp-2</th>\n",
       "      <th>negAmp+3</th>\n",
       "      <th>negAmp-3</th>\n",
       "      <th>posAmp+1</th>\n",
       "      <th>posAmp-1</th>\n",
       "      <th>...</th>\n",
       "      <th>negPeakRatio+3</th>\n",
       "      <th>negPeakRatio-3</th>\n",
       "      <th>zcr</th>\n",
       "      <th>energy</th>\n",
       "      <th>hnr</th>\n",
       "      <th>specCentroid</th>\n",
       "      <th>specRollOff</th>\n",
       "      <th>mfcc0</th>\n",
       "      <th>mfcc1</th>\n",
       "      <th>f0</th>\n",
       "    </tr>\n",
       "  </thead>\n",
       "  <tbody>\n",
       "    <tr>\n",
       "      <th>0</th>\n",
       "      <td>170</td>\n",
       "      <td>0.002408</td>\n",
       "      <td>0.000848</td>\n",
       "      <td>0.000000</td>\n",
       "      <td>0.000237</td>\n",
       "      <td>0.000000</td>\n",
       "      <td>0.000509</td>\n",
       "      <td>0.000000</td>\n",
       "      <td>0.005459</td>\n",
       "      <td>0.000000</td>\n",
       "      <td>...</td>\n",
       "      <td>0.211268</td>\n",
       "      <td>0.000000</td>\n",
       "      <td>12</td>\n",
       "      <td>5.819205</td>\n",
       "      <td>9.531323</td>\n",
       "      <td>1921.265120</td>\n",
       "      <td>5093.75</td>\n",
       "      <td>6.635018</td>\n",
       "      <td>-19.232227</td>\n",
       "      <td>0.0</td>\n",
       "    </tr>\n",
       "    <tr>\n",
       "      <th>1</th>\n",
       "      <td>714</td>\n",
       "      <td>0.000848</td>\n",
       "      <td>0.000237</td>\n",
       "      <td>0.002408</td>\n",
       "      <td>0.000509</td>\n",
       "      <td>0.000000</td>\n",
       "      <td>0.000949</td>\n",
       "      <td>0.000000</td>\n",
       "      <td>0.000475</td>\n",
       "      <td>0.005459</td>\n",
       "      <td>...</td>\n",
       "      <td>1.120000</td>\n",
       "      <td>0.000000</td>\n",
       "      <td>30</td>\n",
       "      <td>5.911118</td>\n",
       "      <td>9.064202</td>\n",
       "      <td>2345.460398</td>\n",
       "      <td>5812.50</td>\n",
       "      <td>4.551766</td>\n",
       "      <td>-27.449987</td>\n",
       "      <td>0.0</td>\n",
       "    </tr>\n",
       "    <tr>\n",
       "      <th>2</th>\n",
       "      <td>830</td>\n",
       "      <td>0.000237</td>\n",
       "      <td>0.000509</td>\n",
       "      <td>0.000848</td>\n",
       "      <td>0.000949</td>\n",
       "      <td>0.002408</td>\n",
       "      <td>0.002102</td>\n",
       "      <td>0.000000</td>\n",
       "      <td>0.003052</td>\n",
       "      <td>0.000475</td>\n",
       "      <td>...</td>\n",
       "      <td>8.857143</td>\n",
       "      <td>0.000000</td>\n",
       "      <td>42</td>\n",
       "      <td>6.291295</td>\n",
       "      <td>4.616575</td>\n",
       "      <td>2835.998739</td>\n",
       "      <td>6218.75</td>\n",
       "      <td>6.742996</td>\n",
       "      <td>-25.020588</td>\n",
       "      <td>0.0</td>\n",
       "    </tr>\n",
       "    <tr>\n",
       "      <th>3</th>\n",
       "      <td>988</td>\n",
       "      <td>0.000509</td>\n",
       "      <td>0.000949</td>\n",
       "      <td>0.000237</td>\n",
       "      <td>0.002102</td>\n",
       "      <td>0.000848</td>\n",
       "      <td>0.000203</td>\n",
       "      <td>0.002408</td>\n",
       "      <td>0.001424</td>\n",
       "      <td>0.003052</td>\n",
       "      <td>...</td>\n",
       "      <td>0.400000</td>\n",
       "      <td>4.733333</td>\n",
       "      <td>12</td>\n",
       "      <td>5.730694</td>\n",
       "      <td>8.145357</td>\n",
       "      <td>2038.857806</td>\n",
       "      <td>5718.75</td>\n",
       "      <td>6.141694</td>\n",
       "      <td>-20.078818</td>\n",
       "      <td>0.0</td>\n",
       "    </tr>\n",
       "    <tr>\n",
       "      <th>4</th>\n",
       "      <td>1109</td>\n",
       "      <td>0.000949</td>\n",
       "      <td>0.002102</td>\n",
       "      <td>0.000509</td>\n",
       "      <td>0.000203</td>\n",
       "      <td>0.000237</td>\n",
       "      <td>0.000916</td>\n",
       "      <td>0.000848</td>\n",
       "      <td>0.002577</td>\n",
       "      <td>0.001424</td>\n",
       "      <td>...</td>\n",
       "      <td>0.964286</td>\n",
       "      <td>0.892857</td>\n",
       "      <td>16</td>\n",
       "      <td>5.851574</td>\n",
       "      <td>9.596124</td>\n",
       "      <td>2571.626569</td>\n",
       "      <td>6156.25</td>\n",
       "      <td>7.016690</td>\n",
       "      <td>-20.557482</td>\n",
       "      <td>0.0</td>\n",
       "    </tr>\n",
       "  </tbody>\n",
       "</table>\n",
       "<p>5 rows × 38 columns</p>\n",
       "</div>"
      ],
      "text/plain": [
       "   negPeakIdx   negAmp0  negAmp+1  negAmp-1  negAmp+2  negAmp-2  negAmp+3  \\\n",
       "0         170  0.002408  0.000848  0.000000  0.000237  0.000000  0.000509   \n",
       "1         714  0.000848  0.000237  0.002408  0.000509  0.000000  0.000949   \n",
       "2         830  0.000237  0.000509  0.000848  0.000949  0.002408  0.002102   \n",
       "3         988  0.000509  0.000949  0.000237  0.002102  0.000848  0.000203   \n",
       "4        1109  0.000949  0.002102  0.000509  0.000203  0.000237  0.000916   \n",
       "\n",
       "   negAmp-3  posAmp+1  posAmp-1 ...   negPeakRatio+3  negPeakRatio-3  zcr  \\\n",
       "0  0.000000  0.005459  0.000000 ...         0.211268        0.000000   12   \n",
       "1  0.000000  0.000475  0.005459 ...         1.120000        0.000000   30   \n",
       "2  0.000000  0.003052  0.000475 ...         8.857143        0.000000   42   \n",
       "3  0.002408  0.001424  0.003052 ...         0.400000        4.733333   12   \n",
       "4  0.000848  0.002577  0.001424 ...         0.964286        0.892857   16   \n",
       "\n",
       "     energy       hnr  specCentroid  specRollOff     mfcc0      mfcc1   f0  \n",
       "0  5.819205  9.531323   1921.265120      5093.75  6.635018 -19.232227  0.0  \n",
       "1  5.911118  9.064202   2345.460398      5812.50  4.551766 -27.449987  0.0  \n",
       "2  6.291295  4.616575   2835.998739      6218.75  6.742996 -25.020588  0.0  \n",
       "3  5.730694  8.145357   2038.857806      5718.75  6.141694 -20.078818  0.0  \n",
       "4  5.851574  9.596124   2571.626569      6156.25  7.016690 -20.557482  0.0  \n",
       "\n",
       "[5 rows x 38 columns]"
      ]
     },
     "execution_count": 40,
     "metadata": {},
     "output_type": "execute_result"
    }
   ],
   "source": [
    "import pandas as pd\n",
    "# Read an example feature set (BDL ```arctic_a0001``` utterance)\n",
    "df_bdl1 = pd.read_csv('data/cmu/bdl/bdl_arctic_a0001.csv', sep=';')\n",
    "df_bdl1.head()"
   ]
  },
  {
   "cell_type": "markdown",
   "metadata": {
    "run_control": {
     "frozen": false,
     "read_only": false
    }
   },
   "source": [
    "The reference GCIs and datasets for all utterances and voices can be downloaded from the following table (or directly from the ```data/cmu``` folder)\n",
    "\n",
    "| Voice | GCIs                                 | Dataset                           |\n",
    "| ----- | -------------------------------------| --------------------------------- | \n",
    "| BDL   | [x](data/cmu/bdl/bdl_ref_gci.tar.gz) | [x](data/cmu/bdl/bdl_data.tar.gz) |\n",
    "| SLT   | [x](data/cmu/slt/slt_ref_gci.tar.gz) | [x](data/cmu/slt/slt_data.tar.gz) |\n",
    "| KED   | [x](data/cmu/ked/ked_ref_gci.tar.gz) | [x](data/cmu/ked/ked_data.tar.gz) |"
   ]
  },
  {
   "cell_type": "markdown",
   "metadata": {},
   "source": [
    "GCIs detected by different methods are stored in the ``data/cmu/<voice>`` folder where ``<voice>`` is one of the voices we experimented with: ``bdl``, ``slt``, ``ked``.\n",
    "\n",
    "The name of the compressed file with GCIs is as follow:\n",
    "\n",
    "``<voice>_<method>_>type>_gci``\n",
    "* ``<voice>``  ...  a voice (``bdl``, ``slt``, ``ked``)\n",
    "* ``<method>`` ... GCI detection method (``dypsa``, ``mmf``, ``reaper``, ``sedreams``, ``xgb``)\n",
    "* ``<type>``   ... GCI type (original vs. postprocessed)\n",
    "  * ``orig`` ... original GCIs as detected by each method\n",
    "  * ``post`` ... postprocessed GCIs (V/U filtering, syncing with neighboring minimum negative sample)"
   ]
  }
 ],
 "metadata": {
  "kernelspec": {
   "display_name": "Python 2",
   "language": "python",
   "name": "python2"
  },
  "language_info": {
   "codemirror_mode": {
    "name": "ipython",
    "version": 3
   },
   "file_extension": ".py",
   "mimetype": "text/x-python",
   "name": "python",
   "nbconvert_exporter": "python",
   "pygments_lexer": "ipython3",
   "version": "3.6.8"
  },
  "toc": {
   "colors": {
    "hover_highlight": "#DAA520",
    "running_highlight": "#FF0000",
    "selected_highlight": "#FFD700"
   },
   "moveMenuLeft": true,
   "nav_menu": {
    "height": "66px",
    "width": "252px"
   },
   "navigate_menu": true,
   "number_sections": false,
   "sideBar": true,
   "threshold": 4,
   "toc_cell": true,
   "toc_section_display": "block",
   "toc_window_display": true
  }
 },
 "nbformat": 4,
 "nbformat_minor": 2
}
